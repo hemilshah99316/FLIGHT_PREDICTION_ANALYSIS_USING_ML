{
 "cells": [
  {
   "cell_type": "code",
   "execution_count": 1,
   "metadata": {},
   "outputs": [],
   "source": [
    "# Generic inputs for most ML tasks\n",
    "import pandas as pd\n",
    "import numpy as np\n",
    "from sklearn.model_selection import train_test_split\n",
    "from sklearn import tree\n",
    "from sklearn.tree import DecisionTreeClassifier\n",
    "from sklearn.ensemble import RandomForestClassifier\n",
    "from sklearn.ensemble import GradientBoostingClassifier\n",
    "from sklearn.linear_model import LogisticRegression\n",
    "import xgboost as xgb\n",
    "from sklearn.metrics import accuracy_score, classification_report\n",
    "\n",
    "pd.options.display.float_format = '{:,.2f}'.format\n",
    "from IPython.display import display, HTML"
   ]
  },
  {
   "cell_type": "code",
   "execution_count": 2,
   "metadata": {},
   "outputs": [],
   "source": [
    "Flight_weather = pd.read_csv(r\"C:\\Users\\VIKAS\\Documents\\Intro to ML\\Project\\datasets\\data\\Flight_weather.csv\", parse_dates =['Date'])\n",
    "\n",
    "test_Flight_weather1 = pd.read_csv(r\"C:\\Users\\VIKAS\\Documents\\Intro to ML\\Project\\datasets\\data\\test_Flight_weather1.csv\", parse_dates =['Date'])\n",
    "\n",
    "test_Flight_weather2 = pd.read_csv(r\"C:\\Users\\VIKAS\\Documents\\Intro to ML\\Project\\datasets\\data\\test_Flight_weather2.csv\", parse_dates =['Date'])"
   ]
  },
  {
   "cell_type": "code",
   "execution_count": 3,
   "metadata": {},
   "outputs": [],
   "source": [
    "Flight_weather['date'] = pd.to_datetime(Flight_weather['Date'])\n",
    "Flight_weather['Day of Week'] = Flight_weather['date'].dt.dayofweek\n",
    "Flight_weather['Month'] = Flight_weather['date'].dt.month\n",
    "Flight_weather.drop(['Date', 'date'], axis=1, inplace=True)\n",
    "\n",
    "\n",
    "test_Flight_weather1['date'] = pd.to_datetime(test_Flight_weather1['Date'])\n",
    "test_Flight_weather1['Day of Week'] = test_Flight_weather1['date'].dt.dayofweek\n",
    "test_Flight_weather1['Month'] = test_Flight_weather1['date'].dt.month\n",
    "test_Flight_weather1.drop(['Date', 'date'], axis=1, inplace=True)\n",
    "\n",
    "\n",
    "test_Flight_weather2['date'] = pd.to_datetime(test_Flight_weather2['Date'])\n",
    "test_Flight_weather2['Day of Week'] = test_Flight_weather2['date'].dt.dayofweek\n",
    "test_Flight_weather2['Month'] = test_Flight_weather2['date'].dt.month\n",
    "test_Flight_weather2.drop(['Date', 'date'], axis=1, inplace=True)\n",
    "\n",
    "\n",
    "\n",
    "Flight_weather = pd.get_dummies(Flight_weather, columns = ['CarrierCode', 'Origin', 'Dest'], drop_first = True)\n",
    "\n",
    "test_Flight_weather1 = pd.get_dummies(test_Flight_weather1, columns = ['CarrierCode', 'Origin', 'Dest'], drop_first = True)\n",
    "\n",
    "test_Flight_weather2 = pd.get_dummies(test_Flight_weather2, columns = ['CarrierCode', 'Origin', 'Dest'], drop_first = True)"
   ]
  },
  {
   "cell_type": "code",
   "execution_count": 4,
   "metadata": {},
   "outputs": [],
   "source": [
    "from sklearn.preprocessing import OneHotEncoder, LabelEncoder\n",
    "\n",
    "y = Flight_weather['Arr_Delay_Status']\n",
    "\n",
    "\n",
    "# Label encode the target variable\n",
    "label_encoder = LabelEncoder()\n",
    "y_encoded = label_encoder.fit_transform(y)\n"
   ]
  },
  {
   "cell_type": "code",
   "execution_count": 5,
   "metadata": {},
   "outputs": [],
   "source": [
    "X_train, X_test, y_train, y_test = train_test_split(Flight_weather.drop(columns = ['Arr_Delay_Status']), y_encoded, test_size=0.2, random_state=42)\n",
    "\n",
    "#Flight_weather['Arr_Delay_Status']\n",
    "\n",
    "if False: \n",
    "    from sklearn.preprocessing import StandardScaler\n",
    "    sc = StandardScaler()\n",
    "    X_train = pd.DataFrame(sc.fit_transform(X_train), columns = X_train.columns, index = X_train.index)\n",
    "    X_test = pd.DataFrame(sc.transform(X_test), columns = X_test.columns, index = X_test.index)\n",
    "    X_train\n",
    "    X_test\n",
    "    y_train\n",
    "    y_test"
   ]
  },
  {
   "cell_type": "code",
   "execution_count": 6,
   "metadata": {},
   "outputs": [
    {
     "name": "stdout",
     "output_type": "stream",
     "text": [
      "Accuracy: 0.47794117647058826\n",
      "Classification Report: \n",
      "              precision    recall  f1-score   support\n",
      "\n",
      "           0       0.53      0.56      0.55        57\n",
      "           1       0.44      0.56      0.50        50\n",
      "           2       0.38      0.17      0.24        29\n",
      "\n",
      "    accuracy                           0.48       136\n",
      "   macro avg       0.45      0.43      0.43       136\n",
      "weighted avg       0.47      0.48      0.46       136\n",
      "\n"
     ]
    }
   ],
   "source": [
    "rf_classifier = RandomForestClassifier(random_state=42)\n",
    "rf_classifier.fit(X_train, y_train)\n",
    "\n",
    "y_pred = rf_classifier.predict(X_test)\n",
    "\n",
    "print(f\"Accuracy: {accuracy_score(y_test, y_pred)}\")\n",
    "print(f\"Classification Report: \\n{classification_report(y_test, y_pred)}\")\n"
   ]
  },
  {
   "cell_type": "code",
   "execution_count": 7,
   "metadata": {},
   "outputs": [
    {
     "name": "stdout",
     "output_type": "stream",
     "text": [
      "Accuracy: 0.47794117647058826\n",
      "Classification Report: \n",
      "              precision    recall  f1-score   support\n",
      "\n",
      "           0       0.54      0.53      0.53        57\n",
      "           1       0.47      0.56      0.51        50\n",
      "           2       0.33      0.24      0.28        29\n",
      "\n",
      "    accuracy                           0.48       136\n",
      "   macro avg       0.45      0.44      0.44       136\n",
      "weighted avg       0.47      0.48      0.47       136\n",
      "\n"
     ]
    }
   ],
   "source": [
    "xgb_classifier = xgb.XGBClassifier(objective='multi:softmax', num_class=3, random_state=42)\n",
    "xgb_classifier.fit(X_train, y_train)\n",
    " \n",
    "y_pred = xgb_classifier.predict(X_test)\n",
    "\n",
    "print(f\"Accuracy: {accuracy_score(y_test, y_pred)}\")\n",
    "print(f\"Classification Report: \\n{classification_report(y_test, y_pred)}\")"
   ]
  },
  {
   "cell_type": "code",
   "execution_count": 8,
   "metadata": {},
   "outputs": [
    {
     "data": {
      "text/plain": [
       "array([1, 1, 0, 1, 1, 1, 1, 1, 1, 1, 1, 1, 0, 0, 1, 2, 1, 1, 0, 0, 1, 0,\n",
       "       1])"
      ]
     },
     "execution_count": 8,
     "metadata": {},
     "output_type": "execute_result"
    }
   ],
   "source": [
    "y1_pred_rf = rf_classifier.predict(test_Flight_weather1)\n",
    "y1_pred_rf"
   ]
  },
  {
   "cell_type": "code",
   "execution_count": 9,
   "metadata": {},
   "outputs": [
    {
     "data": {
      "text/plain": [
       "array([1, 0, 1, 1, 1, 1, 0, 0, 1, 1, 1, 1, 1, 2, 1, 2, 1, 1, 0, 0, 1, 0,\n",
       "       1])"
      ]
     },
     "execution_count": 9,
     "metadata": {},
     "output_type": "execute_result"
    }
   ],
   "source": [
    "y1_pred_xg = xgb_classifier.predict(test_Flight_weather1)\n",
    "y1_pred_xg"
   ]
  },
  {
   "cell_type": "code",
   "execution_count": 10,
   "metadata": {},
   "outputs": [],
   "source": [
    "#Actuals = np.array(['Early', 'Early', 'Early', 'Early', 'Early', 'On Time', 'Late', \n",
    "#                    'On Time', 'Late', 'Late', 'Late', 'Early', 'On Time', 'Late', 'Early', 'Late', \n",
    "#                    'Late', 'Early', 'Early', 'Early', 'On Time', 'On Time', 'Late'])\n",
    "\n",
    "Actuals = np.array([0,0,0,0,0,2,1,2,1,1,1,0,2,1,0,1,1,0,0,0,2,2,1])"
   ]
  },
  {
   "cell_type": "code",
   "execution_count": 11,
   "metadata": {
    "scrolled": false
   },
   "outputs": [
    {
     "data": {
      "text/plain": [
       "array([[1, 0, 1],\n",
       "       [1, 0, 0],\n",
       "       [0, 0, 1],\n",
       "       [1, 0, 1],\n",
       "       [1, 0, 1],\n",
       "       [1, 2, 1],\n",
       "       [1, 1, 0],\n",
       "       [1, 2, 0],\n",
       "       [1, 1, 1],\n",
       "       [1, 1, 1],\n",
       "       [1, 1, 1],\n",
       "       [1, 0, 1],\n",
       "       [0, 2, 1],\n",
       "       [0, 1, 2],\n",
       "       [1, 0, 1],\n",
       "       [2, 1, 2],\n",
       "       [1, 1, 1],\n",
       "       [1, 0, 1],\n",
       "       [0, 0, 0],\n",
       "       [0, 0, 0],\n",
       "       [1, 2, 1],\n",
       "       [0, 2, 0],\n",
       "       [1, 1, 1]])"
      ]
     },
     "execution_count": 11,
     "metadata": {},
     "output_type": "execute_result"
    }
   ],
   "source": [
    "y1_pred_rf = y1_pred_rf.reshape(-1, 1)\n",
    "y1_pred_xg = y1_pred_xg.reshape(-1, 1)\n",
    "Actuals = Actuals.reshape(-1, 1)\n",
    "\n",
    "merged_array = np.concatenate((y1_pred_rf, Actuals, y1_pred_xg), axis=1)\n",
    "merged_array"
   ]
  },
  {
   "cell_type": "code",
   "execution_count": 12,
   "metadata": {},
   "outputs": [
    {
     "data": {
      "text/plain": [
       "array([0, 0, 0, 0, 1, 1, 1, 1, 1, 0, 1, 1, 1, 1, 1, 1, 1, 1, 1, 1, 1, 1,\n",
       "       1])"
      ]
     },
     "execution_count": 12,
     "metadata": {},
     "output_type": "execute_result"
    }
   ],
   "source": [
    "y1_pred_rf = rf_classifier.predict(test_Flight_weather2)\n",
    "y1_pred_rf"
   ]
  },
  {
   "cell_type": "code",
   "execution_count": 13,
   "metadata": {},
   "outputs": [
    {
     "data": {
      "text/plain": [
       "array([0, 0, 0, 1, 0, 0, 1, 0, 1, 0, 1, 1, 0, 0, 1, 1, 1, 1, 1, 1, 1, 1,\n",
       "       1])"
      ]
     },
     "execution_count": 13,
     "metadata": {},
     "output_type": "execute_result"
    }
   ],
   "source": [
    "y1_pred_xg = xgb_classifier.predict(test_Flight_weather2)\n",
    "y1_pred_xg"
   ]
  },
  {
   "cell_type": "code",
   "execution_count": 14,
   "metadata": {},
   "outputs": [
    {
     "data": {
      "text/plain": [
       "array([[0, 0],\n",
       "       [0, 0],\n",
       "       [0, 0],\n",
       "       [0, 1],\n",
       "       [1, 0],\n",
       "       [1, 0],\n",
       "       [1, 1],\n",
       "       [1, 0],\n",
       "       [1, 1],\n",
       "       [0, 0],\n",
       "       [1, 1],\n",
       "       [1, 1],\n",
       "       [1, 0],\n",
       "       [1, 0],\n",
       "       [1, 1],\n",
       "       [1, 1],\n",
       "       [1, 1],\n",
       "       [1, 1],\n",
       "       [1, 1],\n",
       "       [1, 1],\n",
       "       [1, 1],\n",
       "       [1, 1],\n",
       "       [1, 1]])"
      ]
     },
     "execution_count": 14,
     "metadata": {},
     "output_type": "execute_result"
    }
   ],
   "source": [
    "y1_pred_rf = y1_pred_rf.reshape(-1, 1)\n",
    "y1_pred_xg = y1_pred_xg.reshape(-1, 1)\n",
    "\n",
    "merged_array = np.concatenate((y1_pred_rf, y1_pred_xg), axis=1)\n",
    "merged_array"
   ]
  },
  {
   "cell_type": "code",
   "execution_count": null,
   "metadata": {},
   "outputs": [],
   "source": []
  }
 ],
 "metadata": {
  "kernelspec": {
   "display_name": "Python 3",
   "language": "python",
   "name": "python3"
  },
  "language_info": {
   "codemirror_mode": {
    "name": "ipython",
    "version": 3
   },
   "file_extension": ".py",
   "mimetype": "text/x-python",
   "name": "python",
   "nbconvert_exporter": "python",
   "pygments_lexer": "ipython3",
   "version": "3.8.5"
  }
 },
 "nbformat": 4,
 "nbformat_minor": 4
}
